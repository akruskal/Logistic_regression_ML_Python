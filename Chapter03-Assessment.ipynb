{
 "cells": [
  {
   "cell_type": "markdown",
   "metadata": {},
   "source": [
    "![alt text](images/HDAT9500Banner.PNG)\n",
    "<br>\n",
    "\n",
    "# Chapter 3: Model Evaluation and Improvement"
   ]
  },
  {
   "cell_type": "markdown",
   "metadata": {},
   "source": [
    "#####################################################################################\n",
    "\n",
    "Double-click to write down your name and surname.\n",
    "\n",
    "**Name:**\n",
    "Alexander\n",
    "\n",
    "**Surname:**\n",
    "Kruskal\n",
    "\n",
    "**Honour Pledge** <p>\n",
    "    \n",
    "    \n",
    "Declaration: <p>\n",
    "    \n",
    "    \n",
    "I declare that this assessment item is my own work, except where acknowledged, and has not been submitted for academic credit elsewhere or previously, or produced independently of this course (e.g. for a third party such as your place of employment) and acknowledge that the assessor of this item may, for the purpose of assessing this item: \n",
    "\n",
    "    a. Reproduce this assessment item and provide a copy to another member of the University; and/or \n",
    "    b. Communicate a copy of this assessment item to a plagiarism checking service (which may then retain a copy of the assessment item on its database for the purpose of future plagiarism checking). \n",
    "\n",
    "#####################################################################################"
   ]
  },
  {
   "cell_type": "markdown",
   "metadata": {},
   "source": [
    "# Assessment\n",
    "\n",
    "\n",
    "Tuning parameters with Grid + cross-validation: GridSearchCV <font color=green>**(Step 6 of the ML work-flow)**</font>\n",
    "\n",
    "Pipelines.\n",
    "\n",
    "The test will be kept in a \"safe box\" to use once we have found the best parameters and the best model with Grid SearchCV.\n",
    "\n",
    "\n",
    "# 1. Introduction\n",
    "\n",
    "In this assessment, you will be asked to use 'Grid' to find the best $alpha$ ($alpha=C=1/\\lambda$) and the best combination of B:M class_weight for logistic regression with Ridge (L2) regularization and 5-CV.\n",
    "\n",
    "**NB Nomeclature: **\n",
    "Training, Validation and Test Set. \n",
    "\n",
    "* The training set, used to train the model\n",
    "* The validation set, used to evaluate model performance and adjust hyper-parameters accordingly (for example, the alpha for Ridge Regression). Therefore, the validation set is used as an intermediate step. \n",
    "* The test set, used for final model evaluation. Book 2 uses the term \"validation set\" for what we call \"test set\" in Book 1.\n",
    "\n",
    "\n",
    "## 1.1. Aims of the Exercise:\n",
    " 1. To become familiar with a validation set to find the best hyper-parameters of a model. Remember that the hyper-parameters are defined by the user.\n",
    " 2. To become familiar with a grid search: the most commonly used method for tuning parameters is via a grid search, which entails testing many combinations of the parameters of interest.\n",
    " 3. To become familiar with k-CV and grid search\n",
    " 4. To become familiar with Python pipelines\n",
    "\n",
    " \n",
    "It aligns with all of the learning outcomes of our course: \n",
    "\n",
    "1.\tDistinguish a range of task specific machine learning techniques appropriate for Health Data Science.\n",
    "2.\tDesign machine learning tasks for Health Data Science scenarios.\n",
    "3.\tConstruct appropriate training and test sets for health research data.\n",
    "\n",
    "\n",
    "## 1.2. Jupyter Notebook Instructions\n",
    "1. Read the content of each cell.\n",
    "2. Where necessary, follow the instructions that are written in each cell.\n",
    "3. Run/Execute all the cells that contain Python code sequentially (one at a time), using the \"Run\" button.\n",
    "4. For those cells in which you are asked to write some code, please write the Python code first and then execute/run the cell.\n",
    " \n",
    "## 1.3. Tips\n",
    " 1. The square brackets on the left hand side of each cell indicate whether the cell has been executed or not. Empty square brackets mean that the cell has not been executed, whereas square brackets that contain a number means that the cell has been executed. Run all of the cells in sequence, using the \"Run\" button.\n",
    " 2. To edit this notebook, just double-click in each cell. In the document, each cell can be a \"Code\" cell or \"text-Markdown\" cell. To choose between these two options, go to the combo-box above. \n",
    " 3. If you want to save your notebook, please make sure you press the \"floppy disk\" icon button above. \n",
    " 4. To clean the content of all cells and re-start Notebook, please go to Cell->All Output->Clear"
   ]
  },
  {
   "cell_type": "markdown",
   "metadata": {},
   "source": [
    "# 2. Load dataset"
   ]
  },
  {
   "cell_type": "code",
   "execution_count": 1,
   "metadata": {},
   "outputs": [
    {
     "name": "stdout",
     "output_type": "stream",
     "text": [
      "3.6.4 |Anaconda, Inc.| (default, Jan 16 2018, 10:22:32) [MSC v.1900 64 bit (AMD64)]\n"
     ]
    }
   ],
   "source": [
    "import sys\n",
    "print(sys.version)\n",
    "\n",
    "\n",
    "import numpy as np\n",
    "import pandas as pd\n",
    "from IPython.display import display\n",
    "\n",
    "from plotnine import *"
   ]
  },
  {
   "cell_type": "code",
   "execution_count": 2,
   "metadata": {},
   "outputs": [],
   "source": [
    "dataframe = pd.read_csv('data/breast-cancer-wisconsin-data/data.csv', sep=',')"
   ]
  },
  {
   "cell_type": "code",
   "execution_count": 3,
   "metadata": {},
   "outputs": [
    {
     "data": {
      "text/html": [
       "<div>\n",
       "<style scoped>\n",
       "    .dataframe tbody tr th:only-of-type {\n",
       "        vertical-align: middle;\n",
       "    }\n",
       "\n",
       "    .dataframe tbody tr th {\n",
       "        vertical-align: top;\n",
       "    }\n",
       "\n",
       "    .dataframe thead th {\n",
       "        text-align: right;\n",
       "    }\n",
       "</style>\n",
       "<table border=\"1\" class=\"dataframe\">\n",
       "  <thead>\n",
       "    <tr style=\"text-align: right;\">\n",
       "      <th></th>\n",
       "      <th>id</th>\n",
       "      <th>diagnosis</th>\n",
       "      <th>radius_mean</th>\n",
       "      <th>texture_mean</th>\n",
       "      <th>perimeter_mean</th>\n",
       "      <th>area_mean</th>\n",
       "      <th>smoothness_mean</th>\n",
       "      <th>compactness_mean</th>\n",
       "      <th>concavity_mean</th>\n",
       "      <th>concave points_mean</th>\n",
       "      <th>...</th>\n",
       "      <th>radius_worst</th>\n",
       "      <th>texture_worst</th>\n",
       "      <th>perimeter_worst</th>\n",
       "      <th>area_worst</th>\n",
       "      <th>smoothness_worst</th>\n",
       "      <th>compactness_worst</th>\n",
       "      <th>concavity_worst</th>\n",
       "      <th>concave points_worst</th>\n",
       "      <th>symmetry_worst</th>\n",
       "      <th>fractal_dimension_worst</th>\n",
       "    </tr>\n",
       "  </thead>\n",
       "  <tbody>\n",
       "    <tr>\n",
       "      <th>0</th>\n",
       "      <td>842302</td>\n",
       "      <td>M</td>\n",
       "      <td>17.99</td>\n",
       "      <td>10.38</td>\n",
       "      <td>122.80</td>\n",
       "      <td>1001.0</td>\n",
       "      <td>0.11840</td>\n",
       "      <td>0.27760</td>\n",
       "      <td>0.3001</td>\n",
       "      <td>0.14710</td>\n",
       "      <td>...</td>\n",
       "      <td>25.38</td>\n",
       "      <td>17.33</td>\n",
       "      <td>184.60</td>\n",
       "      <td>2019.0</td>\n",
       "      <td>0.1622</td>\n",
       "      <td>0.6656</td>\n",
       "      <td>0.7119</td>\n",
       "      <td>0.2654</td>\n",
       "      <td>0.4601</td>\n",
       "      <td>0.11890</td>\n",
       "    </tr>\n",
       "    <tr>\n",
       "      <th>1</th>\n",
       "      <td>842517</td>\n",
       "      <td>M</td>\n",
       "      <td>20.57</td>\n",
       "      <td>17.77</td>\n",
       "      <td>132.90</td>\n",
       "      <td>1326.0</td>\n",
       "      <td>0.08474</td>\n",
       "      <td>0.07864</td>\n",
       "      <td>0.0869</td>\n",
       "      <td>0.07017</td>\n",
       "      <td>...</td>\n",
       "      <td>24.99</td>\n",
       "      <td>23.41</td>\n",
       "      <td>158.80</td>\n",
       "      <td>1956.0</td>\n",
       "      <td>0.1238</td>\n",
       "      <td>0.1866</td>\n",
       "      <td>0.2416</td>\n",
       "      <td>0.1860</td>\n",
       "      <td>0.2750</td>\n",
       "      <td>0.08902</td>\n",
       "    </tr>\n",
       "    <tr>\n",
       "      <th>2</th>\n",
       "      <td>84300903</td>\n",
       "      <td>M</td>\n",
       "      <td>19.69</td>\n",
       "      <td>21.25</td>\n",
       "      <td>130.00</td>\n",
       "      <td>1203.0</td>\n",
       "      <td>0.10960</td>\n",
       "      <td>0.15990</td>\n",
       "      <td>0.1974</td>\n",
       "      <td>0.12790</td>\n",
       "      <td>...</td>\n",
       "      <td>23.57</td>\n",
       "      <td>25.53</td>\n",
       "      <td>152.50</td>\n",
       "      <td>1709.0</td>\n",
       "      <td>0.1444</td>\n",
       "      <td>0.4245</td>\n",
       "      <td>0.4504</td>\n",
       "      <td>0.2430</td>\n",
       "      <td>0.3613</td>\n",
       "      <td>0.08758</td>\n",
       "    </tr>\n",
       "    <tr>\n",
       "      <th>3</th>\n",
       "      <td>84348301</td>\n",
       "      <td>M</td>\n",
       "      <td>11.42</td>\n",
       "      <td>20.38</td>\n",
       "      <td>77.58</td>\n",
       "      <td>386.1</td>\n",
       "      <td>0.14250</td>\n",
       "      <td>0.28390</td>\n",
       "      <td>0.2414</td>\n",
       "      <td>0.10520</td>\n",
       "      <td>...</td>\n",
       "      <td>14.91</td>\n",
       "      <td>26.50</td>\n",
       "      <td>98.87</td>\n",
       "      <td>567.7</td>\n",
       "      <td>0.2098</td>\n",
       "      <td>0.8663</td>\n",
       "      <td>0.6869</td>\n",
       "      <td>0.2575</td>\n",
       "      <td>0.6638</td>\n",
       "      <td>0.17300</td>\n",
       "    </tr>\n",
       "    <tr>\n",
       "      <th>4</th>\n",
       "      <td>84358402</td>\n",
       "      <td>M</td>\n",
       "      <td>20.29</td>\n",
       "      <td>14.34</td>\n",
       "      <td>135.10</td>\n",
       "      <td>1297.0</td>\n",
       "      <td>0.10030</td>\n",
       "      <td>0.13280</td>\n",
       "      <td>0.1980</td>\n",
       "      <td>0.10430</td>\n",
       "      <td>...</td>\n",
       "      <td>22.54</td>\n",
       "      <td>16.67</td>\n",
       "      <td>152.20</td>\n",
       "      <td>1575.0</td>\n",
       "      <td>0.1374</td>\n",
       "      <td>0.2050</td>\n",
       "      <td>0.4000</td>\n",
       "      <td>0.1625</td>\n",
       "      <td>0.2364</td>\n",
       "      <td>0.07678</td>\n",
       "    </tr>\n",
       "  </tbody>\n",
       "</table>\n",
       "<p>5 rows × 32 columns</p>\n",
       "</div>"
      ],
      "text/plain": [
       "         id diagnosis  radius_mean  texture_mean  perimeter_mean  area_mean  \\\n",
       "0    842302         M        17.99         10.38          122.80     1001.0   \n",
       "1    842517         M        20.57         17.77          132.90     1326.0   \n",
       "2  84300903         M        19.69         21.25          130.00     1203.0   \n",
       "3  84348301         M        11.42         20.38           77.58      386.1   \n",
       "4  84358402         M        20.29         14.34          135.10     1297.0   \n",
       "\n",
       "   smoothness_mean  compactness_mean  concavity_mean  concave points_mean  \\\n",
       "0          0.11840           0.27760          0.3001              0.14710   \n",
       "1          0.08474           0.07864          0.0869              0.07017   \n",
       "2          0.10960           0.15990          0.1974              0.12790   \n",
       "3          0.14250           0.28390          0.2414              0.10520   \n",
       "4          0.10030           0.13280          0.1980              0.10430   \n",
       "\n",
       "            ...             radius_worst  texture_worst  perimeter_worst  \\\n",
       "0           ...                    25.38          17.33           184.60   \n",
       "1           ...                    24.99          23.41           158.80   \n",
       "2           ...                    23.57          25.53           152.50   \n",
       "3           ...                    14.91          26.50            98.87   \n",
       "4           ...                    22.54          16.67           152.20   \n",
       "\n",
       "   area_worst  smoothness_worst  compactness_worst  concavity_worst  \\\n",
       "0      2019.0            0.1622             0.6656           0.7119   \n",
       "1      1956.0            0.1238             0.1866           0.2416   \n",
       "2      1709.0            0.1444             0.4245           0.4504   \n",
       "3       567.7            0.2098             0.8663           0.6869   \n",
       "4      1575.0            0.1374             0.2050           0.4000   \n",
       "\n",
       "   concave points_worst  symmetry_worst  fractal_dimension_worst  \n",
       "0                0.2654          0.4601                  0.11890  \n",
       "1                0.1860          0.2750                  0.08902  \n",
       "2                0.2430          0.3613                  0.08758  \n",
       "3                0.2575          0.6638                  0.17300  \n",
       "4                0.1625          0.2364                  0.07678  \n",
       "\n",
       "[5 rows x 32 columns]"
      ]
     },
     "metadata": {},
     "output_type": "display_data"
    },
    {
     "data": {
      "text/plain": [
       "B    357\n",
       "M    212\n",
       "Name: diagnosis, dtype: int64"
      ]
     },
     "execution_count": 3,
     "metadata": {},
     "output_type": "execute_result"
    }
   ],
   "source": [
    "# Sanity Check:\n",
    "display(dataframe[:][:5])\n",
    "dataframe.shape\n",
    "dataframe.diagnosis.value_counts()"
   ]
  },
  {
   "cell_type": "markdown",
   "metadata": {},
   "source": [
    "# 3. Grid Search with Cross-Validation: GridSearchCV"
   ]
  },
  {
   "cell_type": "markdown",
   "metadata": {},
   "source": [
    "The most commonly used method for tuning parameters is via a grid search, which entails testing many combinations of the parameters of interest.<p>\n",
    "    \n",
    " We want to utilise the benefits of cross-validation with the grid search. We will seek to find the model with the best accuracy by using cross-validation. We will use the \"GridSearchCV\" class from sklearn.\n",
    " \n",
    " http://scikit-learn.org/stable/modules/generated/sklearn.model_selection.GridSearchCV.html\n",
    "    \n",
    "We have two primary hyper-parameters that we would like to tune:\n",
    "* C, ($C=alpha=1/\\lambda$)\n",
    "* class_weight, the class weights.\n",
    "<p>\n",
    "    \n",
    "Let's say we want to try:\n",
    "\n",
    "1. C = 0.001, 0.01, 0.1, 1, 10, 100. And for \n",
    "\n",
    "2. class_weight = 'balanced', {'B':0.1, 'M':0.9}, {'B':0.2, 'M':0.8}, {'B':0.3, 'M':0.7}, {'B':0.4, 'M':0.6}, and {'B':0.5, 'M':0.5}. \n",
    "\n",
    "\n",
    "Note that class_weight = {'B':0.5, 'M':0.5} corresponds to no class weighting, as the weightings are equal. As there are 6 cases of C, and 6 of class weight, there are 6 times 6 = 36 total combinations of C and class weight.<p>\n",
    "    \n",
    "We will choose **L2 regularization (ridge) for this problem**. As we are using a grid, and later a grid in combination with cross-validation, we have to keep in our minds *computational complexity*. L2 has a closed form solution because it relies on squaring the beta coefficients. L1 does not have a closed form solution as it involves an absolute value. For this reason, L1 is computationally more expensive, as we can't solve it in terms of matrix math, and most rely on approximations (in the lasso case, coordinate descent). This means L2 will be much faster to implement."
   ]
  },
  {
   "cell_type": "markdown",
   "metadata": {},
   "source": [
    "### <font color='blue'> Question 1: Split the whole dataset into a train and a test set (20% of the total). Keep the test set aside (hidden inside a box as we mentioned in the videos) until the very end (15 marks)</font>\n",
    "\n",
    " <font color='green'> *NB*: We stratify in order to have the same number of classes in the different splits.</font>"
   ]
  },
  {
   "cell_type": "code",
   "execution_count": 4,
   "metadata": {},
   "outputs": [],
   "source": [
    "# Q1: Write Python Code Here\n",
    "# Split data into inputs and output\n",
    "X = dataframe.drop(['diagnosis'], axis = 1)\n",
    "y = dataframe[['diagnosis']].values\n",
    "\n",
    "#split into test and training\n",
    "from sklearn.model_selection import train_test_split\n",
    "from sklearn.preprocessing import StandardScaler\n",
    "\n",
    "X_train, X_test, y_train, y_test = train_test_split(X, y, stratify = y, test_size=0.2,random_state=0)"
   ]
  },
  {
   "cell_type": "markdown",
   "metadata": {},
   "source": [
    "## 3.1. Define the Pipeline\n",
    "\n",
    "As in exercise 1, we will have to use a pipeline in order to also standardize the features for each iteration of the cross-validation.\n",
    "\n",
    "\n",
    "### <font color='blue'> Question 2: Define the scaler we will use, and the estimator. As before, choose the scaler (\"Transform\") to be StandardScaler(), and the estimator (\"Estimator\") to be L2 Logistic Regression. (5 marks)</font>\n",
    "\n",
    "To read about Pipelines:\n",
    "1. https://scikit-learn.org/stable/modules/generated/sklearn.pipeline.Pipeline.html\n",
    "2. https://towardsdatascience.com/a-simple-example-of-pipeline-in-machine-learning-with-scikit-learn-e726ffbb6976\n"
   ]
  },
  {
   "cell_type": "code",
   "execution_count": 5,
   "metadata": {},
   "outputs": [],
   "source": [
    "# Q2: Write Python Code Here\n",
    "from sklearn.pipeline import Pipeline \n",
    "\n",
    "# Scaler/Standardization\n",
    "from sklearn.preprocessing import StandardScaler\n",
    "Scaler = StandardScaler()\n",
    "\n",
    "#LogReg set-up\n",
    "from sklearn.linear_model import LogisticRegression\n",
    "LogReg = LogisticRegression(penalty = 'l2')\n",
    "\n",
    "# PipeLine\n",
    "pipe = Pipeline([('Transform', Scaler), ('Estimator', LogReg)])\n"
   ]
  },
  {
   "cell_type": "markdown",
   "metadata": {},
   "source": [
    "## 3.2. Define the parameter grid"
   ]
  },
  {
   "cell_type": "markdown",
   "metadata": {},
   "source": [
    "### <font color='blue'> Question 3: Define the parameter grid. This is the 2-dimensional range we wish to draw parameter values from. Call this object 'param_grid'. (20 marks)</font>\n",
    "\n",
    " **Important:** as we are using a pipeline, there are two processes that are executed for each iteration of the cross-validation. First, the standardisation, then the fitting of the logistic model. This means we have to indicate which of these processes our specified parameters should be used for. That is, the computer may try to fit class_weight into StandardScaler if we forget to tell it not to. Notice above that we have named our logistic model 'Estimator'. This means we can designate its parameters by naming the hyper-parameters in parameter grid \"Estimator__'parameter_name'\". **For example, we tell the computer that C is meant for the logistic regression estimator by defining it as 'Estimator__C' in the param_grid.**"
   ]
  },
  {
   "cell_type": "markdown",
   "metadata": {},
   "source": [
    "**Coment**\n",
    "\n",
    "There is enough computing power to try many class weights, but realistically with a bigger data set, we would probably only try {0:0.5, 1:0.5}, {0:0.6, 1:0.4}, {0:0.7, 1:0.3}, {0:0.8, 1:0.2}, {0:0.9, 1:0.1} because there are more class 0 (benign) than class 1 (malignant) - note that the best accuracy is with {0:0.4, 1:0.6}."
   ]
  },
  {
   "cell_type": "code",
   "execution_count": 6,
   "metadata": {},
   "outputs": [
    {
     "name": "stdout",
     "output_type": "stream",
     "text": [
      "Parameter grid:\n",
      "class_weight: [{0: 0.1, 1: 0.9}, {0: 0.2, 1: 0.8}, {0: 0.3, 1: 0.7}, {0: 0.4, 1: 0.6}, {0: 0.5, 1: 0.5}, {0: 0.6, 1: 0.4}, {0: 0.7, 1: 0.3}, {0: 0.8, 1: 0.2}, {0: 0.9, 1: 0.1}]\n",
      "C: [0.001, 0.01, 0.1, 1, 10, 100]\n"
     ]
    }
   ],
   "source": [
    "# Q3: Write Python Code Here\n",
    "param_grid = {'Estimator__C': \n",
    "              [0.001, 0.01, 0.1, 1, 10, 100],\n",
    "              'Estimator__class_weight': \n",
    "              [{0:0.1, 1:0.9}, {0:0.2, 1:0.8}, {0:0.3, 1:0.7}, {0:0.4, 1:0.6}, \n",
    "               {0:0.5, 1:0.5}, {0:0.6, 1:0.4}, {0:0.7, 1:0.3}, {0:0.8, 1:0.2}, \n",
    "               {0:0.9, 1:0.1}]}\n",
    "              \n",
    "\n",
    "print(\"Parameter grid:\")\n",
    "print(\"class_weight: {}\".format(param_grid['Estimator__class_weight']))\n",
    "print(\"C: {}\".format(param_grid['Estimator__C']))"
   ]
  },
  {
   "cell_type": "markdown",
   "metadata": {},
   "source": [
    "### <font color='blue'> Question 4: Initialise the GridSearchCV class by passing it the pipeline we have created, *pipe*, our paramater grid, *param_grid*, and specifying how many folds we would like. We must consider the computational complexity of the algorithm, so we can't set cv too high. We choose 5 folds.(5 marks)</font>"
   ]
  },
  {
   "cell_type": "code",
   "execution_count": 7,
   "metadata": {},
   "outputs": [],
   "source": [
    "# Q4: Write Python Code Here\n",
    "#change y train to binary\n",
    "y_train_binary = [0 if x=='B' else 1 for x in y_train] #B=0, M=1\n"
   ]
  },
  {
   "cell_type": "markdown",
   "metadata": {},
   "source": [
    "B=0 and M=1\n",
    "cancer positive =1"
   ]
  },
  {
   "cell_type": "code",
   "execution_count": 8,
   "metadata": {},
   "outputs": [],
   "source": [
    "from sklearn.model_selection import GridSearchCV\n",
    "grid_search = GridSearchCV(pipe, param_grid=param_grid, cv=5)"
   ]
  },
  {
   "cell_type": "code",
   "execution_count": 9,
   "metadata": {},
   "outputs": [
    {
     "data": {
      "text/plain": [
       "GridSearchCV(cv=5, error_score='raise',\n",
       "       estimator=Pipeline(memory=None,\n",
       "     steps=[('Transform', StandardScaler(copy=True, with_mean=True, with_std=True)), ('Estimator', LogisticRegression(C=1.0, class_weight=None, dual=False, fit_intercept=True,\n",
       "          intercept_scaling=1, max_iter=100, multi_class='ovr', n_jobs=1,\n",
       "          penalty='l2', random_state=None, solver='liblinear', tol=0.0001,\n",
       "          verbose=0, warm_start=False))]),\n",
       "       fit_params=None, iid=True, n_jobs=1,\n",
       "       param_grid={'Estimator__C': [0.001, 0.01, 0.1, 1, 10, 100], 'Estimator__class_weight': [{0: 0.1, 1: 0.9}, {0: 0.2, 1: 0.8}, {0: 0.3, 1: 0.7}, {0: 0.4, 1: 0.6}, {0: 0.5, 1: 0.5}, {0: 0.6, 1: 0.4}, {0: 0.7, 1: 0.3}, {0: 0.8, 1: 0.2}, {0: 0.9, 1: 0.1}]},\n",
       "       pre_dispatch='2*n_jobs', refit=True, return_train_score='warn',\n",
       "       scoring=None, verbose=0)"
      ]
     },
     "execution_count": 9,
     "metadata": {},
     "output_type": "execute_result"
    }
   ],
   "source": [
    "grid_search.fit(X_train, y_train_binary)"
   ]
  },
  {
   "cell_type": "code",
   "execution_count": 10,
   "metadata": {},
   "outputs": [
    {
     "name": "stdout",
     "output_type": "stream",
     "text": [
      "Best parameters: {'Estimator__C': 1, 'Estimator__class_weight': {0: 0.4, 1: 0.6}}\n",
      "Best estimator:\n",
      "Pipeline(memory=None,\n",
      "     steps=[('Transform', StandardScaler(copy=True, with_mean=True, with_std=True)), ('Estimator', LogisticRegression(C=1, class_weight={0: 0.4, 1: 0.6}, dual=False,\n",
      "          fit_intercept=True, intercept_scaling=1, max_iter=100,\n",
      "          multi_class='ovr', n_jobs=1, penalty='l2', random_state=None,\n",
      "          solver='liblinear', tol=0.0001, verbose=0, warm_start=False))])\n",
      "Best cross-validation score: 0.9846\n"
     ]
    }
   ],
   "source": [
    "print(\"Best parameters: {}\".format(grid_search.best_params_))\n",
    "print(\"Best estimator:\\n{}\".format(grid_search.best_estimator_))\n",
    "print(\"Best cross-validation score: {:.4f}\".format(grid_search.best_score_))"
   ]
  },
  {
   "cell_type": "markdown",
   "metadata": {},
   "source": [
    "### <font color='blue'> Question 5: What score (performance metric) are we using in the GridSearchCV above? If we used the f1 score instead, what command or commands should be included? - (10 marks)</font>"
   ]
  },
  {
   "cell_type": "markdown",
   "metadata": {},
   "source": [
    "<b> Write your thoughts here:</b>\n",
    "#####################################################################################################################\n",
    "\n",
    "The Scoring performance GridSearchCV uses accuracay automatically.\n",
    "To use f1 score instead we would add in \"scoring = 'f1'\"\n",
    "\n",
    "\n",
    "#####################################################################################################################"
   ]
  },
  {
   "cell_type": "code",
   "execution_count": 11,
   "metadata": {},
   "outputs": [],
   "source": [
    "# Q5: Write Python code here\n",
    "grid_search_f1 = GridSearchCV(pipe, param_grid=param_grid, scoring = 'f1', cv=5)"
   ]
  },
  {
   "cell_type": "markdown",
   "metadata": {},
   "source": [
    "## 3.3. Find the best parameters\n",
    "\n",
    "Now train the grid_search object. Note that grid_search behaves similarly to other classifiers, in the sense that we can use the methods fit, predict and score with it. When we use fit, it performs the grid cross-validation we designed during its initialisation."
   ]
  },
  {
   "cell_type": "markdown",
   "metadata": {},
   "source": [
    "### <font color='blue'> Question 6: Fit the GridSearchCV you created before and show the best parameters and score out of all the folds - (15 marks)</font>"
   ]
  },
  {
   "cell_type": "markdown",
   "metadata": {},
   "source": [
    "If you are looking for the best parameters for the original grid search, that is above.\n",
    "\n",
    "If you are looking for the best parameters for f1, that is below."
   ]
  },
  {
   "cell_type": "code",
   "execution_count": 12,
   "metadata": {},
   "outputs": [
    {
     "data": {
      "text/plain": [
       "GridSearchCV(cv=5, error_score='raise',\n",
       "       estimator=Pipeline(memory=None,\n",
       "     steps=[('Transform', StandardScaler(copy=True, with_mean=True, with_std=True)), ('Estimator', LogisticRegression(C=1.0, class_weight=None, dual=False, fit_intercept=True,\n",
       "          intercept_scaling=1, max_iter=100, multi_class='ovr', n_jobs=1,\n",
       "          penalty='l2', random_state=None, solver='liblinear', tol=0.0001,\n",
       "          verbose=0, warm_start=False))]),\n",
       "       fit_params=None, iid=True, n_jobs=1,\n",
       "       param_grid={'Estimator__C': [0.001, 0.01, 0.1, 1, 10, 100], 'Estimator__class_weight': [{0: 0.1, 1: 0.9}, {0: 0.2, 1: 0.8}, {0: 0.3, 1: 0.7}, {0: 0.4, 1: 0.6}, {0: 0.5, 1: 0.5}, {0: 0.6, 1: 0.4}, {0: 0.7, 1: 0.3}, {0: 0.8, 1: 0.2}, {0: 0.9, 1: 0.1}]},\n",
       "       pre_dispatch='2*n_jobs', refit=True, return_train_score='warn',\n",
       "       scoring='f1', verbose=0)"
      ]
     },
     "execution_count": 12,
     "metadata": {},
     "output_type": "execute_result"
    }
   ],
   "source": [
    "# Q6: Write Python code here\n",
    "grid_search_f1.fit(X_train, y_train_binary)\n",
    "\n",
    "# It takes a while to run ..."
   ]
  },
  {
   "cell_type": "code",
   "execution_count": 13,
   "metadata": {},
   "outputs": [
    {
     "name": "stdout",
     "output_type": "stream",
     "text": [
      "******Best parameters for grid_search_f1*******\n",
      "\n",
      "Best parameters: {'Estimator__C': 1, 'Estimator__class_weight': {0: 0.4, 1: 0.6}}\n",
      "Best estimator:\n",
      "Pipeline(memory=None,\n",
      "     steps=[('Transform', StandardScaler(copy=True, with_mean=True, with_std=True)), ('Estimator', LogisticRegression(C=1, class_weight={0: 0.4, 1: 0.6}, dual=False,\n",
      "          fit_intercept=True, intercept_scaling=1, max_iter=100,\n",
      "          multi_class='ovr', n_jobs=1, penalty='l2', random_state=None,\n",
      "          solver='liblinear', tol=0.0001, verbose=0, warm_start=False))])\n",
      "Best cross-validation score f1: 0.9793\n"
     ]
    }
   ],
   "source": [
    "print('******Best parameters for grid_search_f1*******\\n')\n",
    "print(\"Best parameters: {}\".format(grid_search_f1.best_params_))\n",
    "print(\"Best estimator:\\n{}\".format(grid_search_f1.best_estimator_))\n",
    "print(\"Best cross-validation score f1: {:.4f}\".format(grid_search_f1.best_score_))"
   ]
  },
  {
   "cell_type": "markdown",
   "metadata": {},
   "source": [
    "## 3.4. Visualise the grid results\n",
    "The results from the cross-validated grid search are stored in cv_results_"
   ]
  },
  {
   "cell_type": "code",
   "execution_count": 14,
   "metadata": {},
   "outputs": [],
   "source": [
    "#!pip install mglearn\n",
    "import mglearn"
   ]
  },
  {
   "cell_type": "code",
   "execution_count": 15,
   "metadata": {},
   "outputs": [
    {
     "data": {
      "text/html": [
       "<div>\n",
       "<style scoped>\n",
       "    .dataframe tbody tr th:only-of-type {\n",
       "        vertical-align: middle;\n",
       "    }\n",
       "\n",
       "    .dataframe tbody tr th {\n",
       "        vertical-align: top;\n",
       "    }\n",
       "\n",
       "    .dataframe thead th {\n",
       "        text-align: right;\n",
       "    }\n",
       "</style>\n",
       "<table border=\"1\" class=\"dataframe\">\n",
       "  <thead>\n",
       "    <tr style=\"text-align: right;\">\n",
       "      <th></th>\n",
       "      <th>mean_fit_time</th>\n",
       "      <th>mean_score_time</th>\n",
       "      <th>mean_test_score</th>\n",
       "      <th>mean_train_score</th>\n",
       "      <th>param_Estimator__C</th>\n",
       "      <th>param_Estimator__class_weight</th>\n",
       "      <th>params</th>\n",
       "      <th>rank_test_score</th>\n",
       "      <th>split0_test_score</th>\n",
       "      <th>split0_train_score</th>\n",
       "      <th>...</th>\n",
       "      <th>split2_test_score</th>\n",
       "      <th>split2_train_score</th>\n",
       "      <th>split3_test_score</th>\n",
       "      <th>split3_train_score</th>\n",
       "      <th>split4_test_score</th>\n",
       "      <th>split4_train_score</th>\n",
       "      <th>std_fit_time</th>\n",
       "      <th>std_score_time</th>\n",
       "      <th>std_test_score</th>\n",
       "      <th>std_train_score</th>\n",
       "    </tr>\n",
       "  </thead>\n",
       "  <tbody>\n",
       "    <tr>\n",
       "      <th>0</th>\n",
       "      <td>0.004588</td>\n",
       "      <td>0.001598</td>\n",
       "      <td>0.945055</td>\n",
       "      <td>0.943956</td>\n",
       "      <td>0.001</td>\n",
       "      <td>{0: 0.1, 1: 0.9}</td>\n",
       "      <td>{'Estimator__C': 0.001, 'Estimator__class_weig...</td>\n",
       "      <td>47</td>\n",
       "      <td>0.967033</td>\n",
       "      <td>0.945055</td>\n",
       "      <td>...</td>\n",
       "      <td>0.945055</td>\n",
       "      <td>0.939560</td>\n",
       "      <td>0.912088</td>\n",
       "      <td>0.950549</td>\n",
       "      <td>0.978022</td>\n",
       "      <td>0.939560</td>\n",
       "      <td>0.002720</td>\n",
       "      <td>0.001353</td>\n",
       "      <td>0.025059</td>\n",
       "      <td>0.004112</td>\n",
       "    </tr>\n",
       "    <tr>\n",
       "      <th>1</th>\n",
       "      <td>0.003191</td>\n",
       "      <td>0.000797</td>\n",
       "      <td>0.947253</td>\n",
       "      <td>0.947253</td>\n",
       "      <td>0.001</td>\n",
       "      <td>{0: 0.2, 1: 0.8}</td>\n",
       "      <td>{'Estimator__C': 0.001, 'Estimator__class_weig...</td>\n",
       "      <td>43</td>\n",
       "      <td>0.967033</td>\n",
       "      <td>0.942308</td>\n",
       "      <td>...</td>\n",
       "      <td>0.945055</td>\n",
       "      <td>0.950549</td>\n",
       "      <td>0.901099</td>\n",
       "      <td>0.956044</td>\n",
       "      <td>0.978022</td>\n",
       "      <td>0.939560</td>\n",
       "      <td>0.000400</td>\n",
       "      <td>0.000399</td>\n",
       "      <td>0.026374</td>\n",
       "      <td>0.005867</td>\n",
       "    </tr>\n",
       "    <tr>\n",
       "      <th>2</th>\n",
       "      <td>0.002591</td>\n",
       "      <td>0.000801</td>\n",
       "      <td>0.942857</td>\n",
       "      <td>0.946703</td>\n",
       "      <td>0.001</td>\n",
       "      <td>{0: 0.3, 1: 0.7}</td>\n",
       "      <td>{'Estimator__C': 0.001, 'Estimator__class_weig...</td>\n",
       "      <td>53</td>\n",
       "      <td>0.967033</td>\n",
       "      <td>0.945055</td>\n",
       "      <td>...</td>\n",
       "      <td>0.945055</td>\n",
       "      <td>0.945055</td>\n",
       "      <td>0.901099</td>\n",
       "      <td>0.953297</td>\n",
       "      <td>0.967033</td>\n",
       "      <td>0.942308</td>\n",
       "      <td>0.000793</td>\n",
       "      <td>0.000400</td>\n",
       "      <td>0.024474</td>\n",
       "      <td>0.003727</td>\n",
       "    </tr>\n",
       "    <tr>\n",
       "      <th>3</th>\n",
       "      <td>0.002593</td>\n",
       "      <td>0.000797</td>\n",
       "      <td>0.945055</td>\n",
       "      <td>0.947253</td>\n",
       "      <td>0.001</td>\n",
       "      <td>{0: 0.4, 1: 0.6}</td>\n",
       "      <td>{'Estimator__C': 0.001, 'Estimator__class_weig...</td>\n",
       "      <td>47</td>\n",
       "      <td>0.967033</td>\n",
       "      <td>0.945055</td>\n",
       "      <td>...</td>\n",
       "      <td>0.956044</td>\n",
       "      <td>0.945055</td>\n",
       "      <td>0.901099</td>\n",
       "      <td>0.950549</td>\n",
       "      <td>0.967033</td>\n",
       "      <td>0.945055</td>\n",
       "      <td>0.000799</td>\n",
       "      <td>0.000398</td>\n",
       "      <td>0.025059</td>\n",
       "      <td>0.002692</td>\n",
       "    </tr>\n",
       "    <tr>\n",
       "      <th>4</th>\n",
       "      <td>0.002593</td>\n",
       "      <td>0.000205</td>\n",
       "      <td>0.942857</td>\n",
       "      <td>0.947802</td>\n",
       "      <td>0.001</td>\n",
       "      <td>{0: 0.5, 1: 0.5}</td>\n",
       "      <td>{'Estimator__C': 0.001, 'Estimator__class_weig...</td>\n",
       "      <td>53</td>\n",
       "      <td>0.967033</td>\n",
       "      <td>0.947802</td>\n",
       "      <td>...</td>\n",
       "      <td>0.956044</td>\n",
       "      <td>0.945055</td>\n",
       "      <td>0.890110</td>\n",
       "      <td>0.950549</td>\n",
       "      <td>0.967033</td>\n",
       "      <td>0.945055</td>\n",
       "      <td>0.000488</td>\n",
       "      <td>0.000411</td>\n",
       "      <td>0.028991</td>\n",
       "      <td>0.002457</td>\n",
       "    </tr>\n",
       "  </tbody>\n",
       "</table>\n",
       "<p>5 rows × 22 columns</p>\n",
       "</div>"
      ],
      "text/plain": [
       "   mean_fit_time  mean_score_time  mean_test_score  mean_train_score  \\\n",
       "0       0.004588         0.001598         0.945055          0.943956   \n",
       "1       0.003191         0.000797         0.947253          0.947253   \n",
       "2       0.002591         0.000801         0.942857          0.946703   \n",
       "3       0.002593         0.000797         0.945055          0.947253   \n",
       "4       0.002593         0.000205         0.942857          0.947802   \n",
       "\n",
       "  param_Estimator__C param_Estimator__class_weight  \\\n",
       "0              0.001              {0: 0.1, 1: 0.9}   \n",
       "1              0.001              {0: 0.2, 1: 0.8}   \n",
       "2              0.001              {0: 0.3, 1: 0.7}   \n",
       "3              0.001              {0: 0.4, 1: 0.6}   \n",
       "4              0.001              {0: 0.5, 1: 0.5}   \n",
       "\n",
       "                                              params  rank_test_score  \\\n",
       "0  {'Estimator__C': 0.001, 'Estimator__class_weig...               47   \n",
       "1  {'Estimator__C': 0.001, 'Estimator__class_weig...               43   \n",
       "2  {'Estimator__C': 0.001, 'Estimator__class_weig...               53   \n",
       "3  {'Estimator__C': 0.001, 'Estimator__class_weig...               47   \n",
       "4  {'Estimator__C': 0.001, 'Estimator__class_weig...               53   \n",
       "\n",
       "   split0_test_score  split0_train_score       ...         split2_test_score  \\\n",
       "0           0.967033            0.945055       ...                  0.945055   \n",
       "1           0.967033            0.942308       ...                  0.945055   \n",
       "2           0.967033            0.945055       ...                  0.945055   \n",
       "3           0.967033            0.945055       ...                  0.956044   \n",
       "4           0.967033            0.947802       ...                  0.956044   \n",
       "\n",
       "   split2_train_score  split3_test_score  split3_train_score  \\\n",
       "0            0.939560           0.912088            0.950549   \n",
       "1            0.950549           0.901099            0.956044   \n",
       "2            0.945055           0.901099            0.953297   \n",
       "3            0.945055           0.901099            0.950549   \n",
       "4            0.945055           0.890110            0.950549   \n",
       "\n",
       "   split4_test_score  split4_train_score  std_fit_time  std_score_time  \\\n",
       "0           0.978022            0.939560      0.002720        0.001353   \n",
       "1           0.978022            0.939560      0.000400        0.000399   \n",
       "2           0.967033            0.942308      0.000793        0.000400   \n",
       "3           0.967033            0.945055      0.000799        0.000398   \n",
       "4           0.967033            0.945055      0.000488        0.000411   \n",
       "\n",
       "   std_test_score  std_train_score  \n",
       "0        0.025059         0.004112  \n",
       "1        0.026374         0.005867  \n",
       "2        0.024474         0.003727  \n",
       "3        0.025059         0.002692  \n",
       "4        0.028991         0.002457  \n",
       "\n",
       "[5 rows x 22 columns]"
      ]
     },
     "metadata": {},
     "output_type": "display_data"
    }
   ],
   "source": [
    "import warnings; warnings.simplefilter('ignore') #prevent warnings\n",
    "\n",
    "# convert results to DataFrame\n",
    "results = pd.DataFrame(grid_search.cv_results_) \n",
    "# show the first few rows \n",
    "display(results[:][:5])"
   ]
  },
  {
   "cell_type": "code",
   "execution_count": 16,
   "metadata": {},
   "outputs": [
    {
     "name": "stdout",
     "output_type": "stream",
     "text": [
      "[[0.94505495 0.94505495 0.94945055 0.95164835 0.95384615 0.95604396]\n",
      " [0.94725275 0.95604396 0.96923077 0.97142857 0.96703297 0.95824176]\n",
      " [0.94285714 0.96483516 0.98241758 0.97802198 0.97582418 0.96043956]\n",
      " [0.94505495 0.96483516 0.97802198 0.98461538 0.97582418 0.96043956]\n",
      " [0.94285714 0.96703297 0.97802198 0.98241758 0.97362637 0.95824176]\n",
      " [0.94725275 0.96263736 0.97582418 0.98021978 0.97582418 0.95384615]\n",
      " [0.94505495 0.95824176 0.96483516 0.97802198 0.97802198 0.95604396]\n",
      " [0.94505495 0.95164835 0.95384615 0.96483516 0.97582418 0.95164835]\n",
      " [0.94505495 0.94725275 0.94725275 0.95164835 0.96703297 0.96703297]]\n"
     ]
    }
   ],
   "source": [
    "scores = np.array(results.mean_test_score)\n",
    "scores = scores.reshape(6, 9) \n",
    "# reshape: first index = number of values of C, second index = number of values of dict\n",
    "\n",
    "# Take transpose because we want class_weight on the y axis, so we can more easily see the tick labels\n",
    "scores = np.transpose(scores)\n",
    "\n",
    "print(scores)"
   ]
  },
  {
   "cell_type": "code",
   "execution_count": 17,
   "metadata": {},
   "outputs": [
    {
     "data": {
      "text/plain": [
       "<matplotlib.collections.PolyCollection at 0x23c5fdabc50>"
      ]
     },
     "execution_count": 17,
     "metadata": {},
     "output_type": "execute_result"
    },
    {
     "data": {
      "image/png": "[encoded data removed]",
      "text/plain": [
       "<matplotlib.figure.Figure at 0x23c5fd4b8d0>"
      ]
     },
     "metadata": {
      "needs_background": "light"
     },
     "output_type": "display_data"
    }
   ],
   "source": [
    "# plot the mean cross-validation scores\n",
    "mglearn.tools.heatmap(scores, \n",
    "                      ylabel='class_weight', \n",
    "                      yticklabels=param_grid['Estimator__class_weight'], \n",
    "                      xlabel='C', \n",
    "                      xticklabels=param_grid['Estimator__C'], \n",
    "                      cmap=\"viridis\")"
   ]
  },
  {
   "cell_type": "markdown",
   "metadata": {},
   "source": [
    "### <font color='blue'> Question 7: Interpret the heatmap - (10 marks)</font>"
   ]
  },
  {
   "cell_type": "markdown",
   "metadata": {},
   "source": [
    "<b> Write your thoughts here:</b>\n",
    "#####################################################################################################################\n",
    "\n",
    "The heat map above shows the best values in the midddle of the map,.\n",
    "\n",
    "This is a good sign because this means there is enough range in hyper parameters and not too\n",
    "little variation either.\n",
    "\n",
    "It also shows that the best model based on accuraccy is present as it gets worse outside of the ranges tested.\n",
    "\n",
    "\n",
    "#####################################################################################################################"
   ]
  },
  {
   "cell_type": "markdown",
   "metadata": {},
   "source": [
    "## 3.5. Evaluate on the performance of the resulting model\n",
    "\n",
    "Recall that to this point we have not used the test set - only the training set was used for tuning the parameters (<font color=green>**(Step 5 of the ML work-flow).** As you can see, we went from step 6 (hyper-parameter tuning), back to step 4 (once we selected the best hyper-parameteres, we trained the model with those parameters); subsequently, we move to step 5 (Evaluation of the model).</font>\n",
    "\n",
    "\n",
    "\"Fitting the GridSearchCV object not only searches for the best parameters, but also\n",
    "automatically fits a new model on the whole training dataset with the parameters that\n",
    "yielded the best cross-validation performance\"."
   ]
  },
  {
   "cell_type": "markdown",
   "metadata": {},
   "source": [
    "### <font color='blue'> Question 8: Calculate confusion matrix, accuracy, recall, precision and f1 score. Comment on the results below - (20 marks)</font>\n",
    "<p><font color='green'> Tip: http://scikit-learn.org/stable/modules/generated/sklearn.model_selection.GridSearchCV.html </font></p>"
   ]
  },
  {
   "cell_type": "markdown",
   "metadata": {},
   "source": [
    "### <font color='black'>Fit model to whole training data</font>"
   ]
  },
  {
   "cell_type": "code",
   "execution_count": 18,
   "metadata": {},
   "outputs": [],
   "source": [
    "#refit the model for the whole training data using the best parameters obtained during cross-validation\n",
    "scaler = StandardScaler()\n",
    "scaler.fit(X_train)\n",
    "# rescale the training data\n",
    "X_train_scaled = scaler.transform(X_train)\n",
    "# scale the test data \n",
    "X_test_scaled = scaler.transform(X_test)\n"
   ]
  },
  {
   "cell_type": "code",
   "execution_count": 19,
   "metadata": {},
   "outputs": [
    {
     "data": {
      "text/plain": [
       "LogisticRegression(C=1, class_weight={'B': 0.4, 'M': 0.6}, dual=False,\n",
       "          fit_intercept=True, intercept_scaling=1, max_iter=100,\n",
       "          multi_class='ovr', n_jobs=1, penalty='l2', random_state=None,\n",
       "          solver='liblinear', tol=0.0001, verbose=0, warm_start=False)"
      ]
     },
     "execution_count": 19,
     "metadata": {},
     "output_type": "execute_result"
    }
   ],
   "source": [
    "#fit model\n",
    "logReg = LogisticRegression(C = 1 , penalty = 'l2', class_weight = {'B':.4, 'M':.6}).fit(X_train_scaled, y_train.ravel()) \n",
    "logReg"
   ]
  },
  {
   "cell_type": "code",
   "execution_count": 20,
   "metadata": {},
   "outputs": [],
   "source": [
    "#make a y_pred based on best model\n",
    "y_pred= logReg.predict(X_test_scaled)\n",
    "\n",
    "#make y_pred and y_test binary\n",
    "y_pred_binary = [0 if x=='B' else 1 for x in y_pred] #B=0, M=1\n",
    "y_test_binary = [0 if x=='B' else 1 for x in y_test] #B=0, M=1"
   ]
  },
  {
   "cell_type": "code",
   "execution_count": 21,
   "metadata": {},
   "outputs": [
    {
     "name": "stdout",
     "output_type": "stream",
     "text": [
      "Confusion matrix:\n",
      "[[40  2]\n",
      " [ 4 68]]\n",
      "Accuracy for model:\n",
      "0.9473684210526315\n",
      "********************************************************\n",
      "Best accuracy from cross-validation log reg model:\n",
      "             precision    recall  f1-score   support\n",
      "\n",
      "          0       0.97      0.94      0.96        72\n",
      "          1       0.91      0.95      0.93        42\n",
      "\n",
      "avg / total       0.95      0.95      0.95       114\n",
      "\n"
     ]
    }
   ],
   "source": [
    "#confusion matrix\n",
    "from sklearn import metrics\n",
    "\n",
    "confusion = metrics.confusion_matrix(y_test, y_pred, labels = ['M','B'])\n",
    "print(\"Confusion matrix:\\n{}\".format(confusion))\n",
    "\n",
    "\n",
    "\n",
    "#accuracy\n",
    "score = logReg.score(X_test_scaled, y_test)\n",
    "print(\"Accuracy for model:\\n{}\".format(score))\n",
    "\n",
    "\n",
    "#recall, precision, f1 scores\n",
    "print(\"********************************************************\")\n",
    "print('Best accuracy from cross-validation log reg model:')\n",
    "print(metrics.classification_report(y_test_binary, y_pred_binary))"
   ]
  },
  {
   "cell_type": "markdown",
   "metadata": {},
   "source": [
    "<b> Write your thoughts here:</b>\n",
    "#####################################################################################################################\n",
    "\n",
    "The accuracy is only 94% compared to 98% accross the cross-validation, showing that it may be slighly over-fitted to the training data.\n",
    "\n",
    "Also, the precision of malignant (cancerous), is probably a better measure for the predictive model as long as there are not too many false positives (adding cost for extra tests) because missing cancer is much more harmful and costly than a few extra false positives.\n",
    "\n",
    "Using F1 score as the scoring for the grid search may make a better model because it is an average between precision and recall and would decrease false positives while also keeping false negatives low.\n",
    "\n",
    "\n",
    "#####################################################################################################################"
   ]
  },
  {
   "cell_type": "code",
   "execution_count": null,
   "metadata": {},
   "outputs": [],
   "source": []
  }
 ],
 "metadata": {
  "kernelspec": {
   "display_name": "Python 3",
   "language": "python",
   "name": "python3"
  },
  "language_info": {
   "codemirror_mode": {
    "name": "ipython",
    "version": 3
   },
   "file_extension": ".py",
   "mimetype": "text/x-python",
   "name": "python",
   "nbconvert_exporter": "python",
   "pygments_lexer": "ipython3",
   "version": "3.6.4"
  }
 },
 "nbformat": 4,
 "nbformat_minor": 2
}
